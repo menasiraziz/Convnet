{
  "nbformat": 4,
  "nbformat_minor": 0,
  "metadata": {
    "colab": {
      "name": "convnet2.ipynb",
      "provenance": [],
      "collapsed_sections": [],
      "authorship_tag": "ABX9TyPkXbVW0ml4vXfbR6oE9xEh",
      "include_colab_link": true
    },
    "kernelspec": {
      "name": "python3",
      "display_name": "Python 3"
    }
  },
  "cells": [
    {
      "cell_type": "markdown",
      "metadata": {
        "id": "view-in-github",
        "colab_type": "text"
      },
      "source": [
        "<a href=\"https://colab.research.google.com/github/menasiraziz/Convnet/blob/master/convnet3.ipynb\" target=\"_parent\"><img src=\"https://colab.research.google.com/assets/colab-badge.svg\" alt=\"Open In Colab\"/></a>"
      ]
    },
    {
      "cell_type": "code",
      "metadata": {
        "id": "U6SP1-Wn0LPp",
        "colab_type": "code",
        "colab": {}
      },
      "source": [
        "import numpy as np"
      ],
      "execution_count": 0,
      "outputs": []
    },
    {
      "cell_type": "code",
      "metadata": {
        "id": "chEltUT71tFF",
        "colab_type": "code",
        "colab": {}
      },
      "source": [
        "from numpy.lib.stride_tricks import as_strided\n",
        "\n",
        "\n",
        "def strided_convolution3D(image, weight, stride):\n",
        "    m,ch,im_h, im_w = image.shape\n",
        "    f,t,f_h, f_w = weight.shape\n",
        "    out_shape = (m,ch,1 + (im_h - f_h) // stride, 1 + (im_w - f_w) // stride, f_h, f_w)\n",
        "    out_strides = (image.strides[0],image.strides[1],image.strides[2] * stride, image.strides[3] * stride, image.strides[2], image.strides[3])\n",
        "    windows = as_strided(image, shape=out_shape, strides=out_strides)\n",
        "    return np.einsum('mcopjk,ecjk->meop',windows,weight)\n",
        "\n",
        "def mx_pool(img,s): # function takes advatange of row order of numpy array\n",
        "  m,ch,n,n=img.shape # flatten all images into stride \n",
        "  c=img.reshape(-1,s) #change s to change horizontal stride\n",
        "  ind=np.argmax(c,axis=1)\n",
        "  ind1=np.ravel_multi_index([np.arange(ind.shape[0]),ind], (ind.shape[0],s))\n",
        "  d=img.flatten()[ind1]\n",
        "  g=d.reshape(-1,s,int(n/s)) #probably i need to change s in the middle to change vertical stride\n",
        "\n",
        "  h=g.argmax(axis=1)\n",
        "  i1=np.arange(g.shape[0]) # varies along images in data \n",
        "  i2=np.arange(g.shape[2]) # varies along col axis in indices\n",
        "  ss=i1[:,np.newaxis]*n+g.shape[2]*h+i2 # i2 is varying along col and i1 is varying along batch and row dim\n",
        "  return ind1[ss.flatten()]\n",
        "\n",
        "\n",
        "import numpy as np\n",
        "from numpy.lib.stride_tricks import as_strided\n",
        "\n",
        "\n",
        "def strided_convolution3D1_g(image, weight, stride):\n",
        "    m,ch,im_h, im_w = image.shape\n",
        "    f,t,f_h, f_w = weight.shape\n",
        "    #print(m)\n",
        "    out_shape = (m,ch,1 + (im_h - f_h) // stride, 1 + (im_w - f_w) // stride, f_h, f_w)\n",
        "    out_strides = (image.strides[0],image.strides[1],image.strides[2] * stride, image.strides[3] * stride, image.strides[2], image.strides[3])\n",
        "    windows = as_strided(image, shape=out_shape, strides=out_strides)\n",
        "    #print(windows.shape)\n",
        "    #print(windows)\n",
        "    return np.einsum('meopjk,ecjk->mecop',windows,weight)\n",
        "    #return np.einsum('meopjk,ecjk->meop',windows,weight)\n",
        "    #return np.einsum('meopjk,ecjk->mecop',windows,weight)\n",
        "\n",
        "def strided_convolution3D_grad1(image, weight, stride):\n",
        "    m,ch,im_h, im_w = image.shape\n",
        "    m1,m2,f_h, f_w = weight.shape\n",
        "    \n",
        "    #print(m)\n",
        "    out_shape = (m,ch,1 + (im_h - f_h) // stride, 1 + (im_w - f_w) // stride, f_h, f_w)\n",
        "    out_strides = (image.strides[0],image.strides[1],image.strides[2] * stride, image.strides[3] * stride, image.strides[2], image.strides[3])\n",
        "    windows = as_strided(image, shape=out_shape, strides=out_strides)\n",
        "    #print(windows.shape)\n",
        "    #print(windows[0])\n",
        "    #print(windows*gg1)\n",
        "    return np.einsum('mcopjk,mejk->mecop',windows,weight)\n"
      ],
      "execution_count": 0,
      "outputs": []
    },
    {
      "cell_type": "code",
      "metadata": {
        "id": "nMWRjGVX0PeW",
        "colab_type": "code",
        "colab": {}
      },
      "source": [
        "class ConvLayer:\n",
        "  def __init__(self,in_ch=1,out_ch=1,kernel=(2,2),stride=1):\n",
        "    self.filters=np.random.randn(out_ch,in_ch,kernel[0],kernel[1])\n",
        "    self.stride=stride\n",
        "\n",
        "  def feedforward(self,x):\n",
        "    if(x.shape[1]!=self.filters.shape[1]):\n",
        "      print(x.shape[1])\n",
        "      print(self.filters.shape[1])\n",
        "      raise Exception(\"channels in input and output are not same\")\n",
        "    self.out=strided_convolution3D(x,self.filters,self.stride)\n",
        "    return self.out\n",
        "  def grad(self,x,loss_grad):\n",
        "    self.df=strided_convolution3D_grad1(x,loss_grad,1).sum(axis=0)\n",
        "    gg=np.rot90(loss_grad,2,axes=(2,3))\n",
        "    gg1=np.pad(gg, ((0, 0),(0, 0),(1, 1),(1,1)), 'constant', constant_values=(0))\n",
        "    ooo=strided_convolution3D1_g(gg1,self.filters,1)\n",
        "    return np.rot90(ooo,2,axes=(3,4)).sum(axis=1)\n",
        "\n",
        "class FC_Layer:\n",
        "  def __init__(self,i_dim,out_dim):\n",
        "    self.W=np.random.randn(i_dim,out_dim)\n",
        "    self.dw=np.zeros(self.W.shape)\n",
        "  def feedforward(self,x):\n",
        "    self.out=np.dot(x,self.W)\n",
        "    return self.out\n",
        "  def grad(self,x,loss_grad):\n",
        "    return self.W*loss_grad[:,np.newaxis]\n",
        "\n",
        "class Network:\n",
        "  def __init__(self):\n",
        "    self.n=7\n",
        "    self.in_ch=1\n",
        "    self.m=1\n",
        "    self.f1=2\n",
        "    self.f2=2\n",
        "    self.cs=1\n",
        "    self.o_ch=1\n",
        "\n",
        "    self.mxs=2\n",
        "\n",
        "    self.conv1=ConvLayer(in_ch=self.in_ch,out_ch=self.o_ch,kernel=(self.f1,self.f1),stride=self.cs)\n",
        "\n",
        "    self.conv2=ConvLayer(in_ch=1,out_ch=1,kernel=(self.f2,self.f2),stride=self.cs)\n",
        "\n",
        "    cos=(self.n-self.f1+1)//self.mxs-self.f2+1\n",
        "\n",
        "    self.FC1=FC_Layer(cos*cos,1)\n",
        "\n",
        "  def gen_images(self):\n",
        "    return np.random.randn(self.m,self.in_ch,self.n,self.n)\n",
        "\n",
        "  def feedforward(self,x):\n",
        "    c1=self.conv1.feedforward(x)\n",
        "    self.m1_indices=mx_pool(c1,self.mxs)\n",
        "    self.m1=c1.flatten()[self.m1_indices].reshape(-1,c1.shape[1],int(c1.shape[2]/self.mxs),int(c1.shape[3]/self.mxs))\n",
        "    c2=self.conv2.feedforward(self.m1)\n",
        "    f1=self.FC1.feedforward(c2.reshape(c2.shape[0],-1))\n",
        "    return f1\n",
        "  def backpropagate(self,x,y,yhat):\n",
        "    loss_grad=2*(yhat-y)\n",
        "    gradF1=self.FC1.grad(self.conv2.out.reshape(loss_grad.shape[0],-1),loss_grad).reshape(self.conv2.out.shape)\n",
        "    print(gradF1.shape)\n",
        "    gradC2=self.conv2.grad(self.m1,gradF1)\n",
        "    print(gradC2.shape)\n",
        "    grad_zeros=np.zeros(self.conv1.out.shape[0]*self.conv1.out.shape[1]*self.conv1.out.shape[2]*self.conv1.out.shape[3])\n",
        "    grad_zeros[self.m1_indices]=gradC2.flatten()\n",
        "    gg=grad_zeros.reshape(self.conv1.out.shape)\n",
        "    gradC1=self.conv1.grad(x,gg)\n",
        "    print(gradC1)\n",
        "\n",
        "  def loss(self,y,yhat):\n",
        "    return np.sum(np.square(y-yhat))\n",
        "\n",
        "  def num_grad(self,x,y):\n",
        "    ep=np.zeros(x.shape)\n",
        "    dw=np.zeros(x.shape)\n",
        "    for dd in range(x.shape[0]):\n",
        "      for k in range(x.shape[1]):\n",
        "       for i in range(x.shape[2]):\n",
        "         for j in range(x.shape[3]):\n",
        "\n",
        "           ep[dd,k,i,j]=1e-4\n",
        "           yhat1=self.feedforward(x+ep)\n",
        "           yhat2=self.feedforward(x-ep)\n",
        "           #print(yhat1.shape)\n",
        "           dw[dd,k,i,j]=(self.loss(y,yhat1)-self.loss(y,yhat2))/2e-4\n",
        "           ep[dd,k,i,j]=0\n",
        "\n",
        "    return dw"
      ],
      "execution_count": 0,
      "outputs": []
    },
    {
      "cell_type": "code",
      "metadata": {
        "id": "-uQyJjngmRn_",
        "colab_type": "code",
        "outputId": "85349f76-837d-4c65-af81-28028f09fe84",
        "colab": {
          "base_uri": "https://localhost:8080/",
          "height": 521
        }
      },
      "source": [
        "np.random.seed(100)\n",
        "nn=Network()\n",
        "img=nn.gen_images()*10\n",
        "y=np.random.randn(img.shape[0],1)\n",
        "yhat=nn.feedforward(img)\n",
        "nn.backpropagate(img,y,yhat)\n",
        "nn.num_grad(img,y)"
      ],
      "execution_count": 24,
      "outputs": [
        {
          "output_type": "stream",
          "text": [
            "(1, 1, 2, 2)\n",
            "(1, 1, 3, 3)\n",
            "[[[[  0.           0.          -6.03819631   1.18254222   0.\n",
            "      0.           0.        ]\n",
            "   [  7.3486271   -1.43918173   3.97896555  -0.87112151  -5.18186599\n",
            "      1.01483539   0.        ]\n",
            "   [ 14.57604583  -2.74282188   0.         -17.80994748   6.90263763\n",
            "     -0.74758002   0.        ]\n",
            "   [-12.79615633   2.80148368   0.          11.7361483   -0.6293415\n",
            "     -0.37995089   0.        ]\n",
            "   [  0.           0.           0.           0.          -1.27844189\n",
            "     18.68122784  -3.60378433]\n",
            "   [  0.           4.00342616  -0.78404547 -23.17172868   4.53803521\n",
            "    -12.12585347   2.65473317]\n",
            "   [  0.          -2.63812137   0.57756828  15.26937935  -3.34295049\n",
            "      0.           0.        ]]]]\n"
          ],
          "name": "stdout"
        },
        {
          "output_type": "execute_result",
          "data": {
            "text/plain": [
              "array([[[[  0.        ,   0.        ,  -6.03819631,   1.18254222,\n",
              "            0.        ,   0.        ,   0.        ],\n",
              "         [  7.3486271 ,  -1.43918173,   3.97896555,  -0.87112151,\n",
              "           -5.18186599,   1.01483539,   0.        ],\n",
              "         [ 14.57604583,  -2.74282188,   0.        , -17.80994748,\n",
              "            6.90263763,  -0.74758002,   0.        ],\n",
              "         [-12.79615633,   2.80148368,   0.        ,  11.7361483 ,\n",
              "           -0.6293415 ,  -0.37995089,   0.        ],\n",
              "         [  0.        ,   0.        ,   0.        ,   0.        ,\n",
              "           -1.27844189,  18.68122784,  -3.60378433],\n",
              "         [  0.        ,   4.00342616,  -0.78404547, -23.17172868,\n",
              "            4.53803521, -12.12585347,   2.65473317],\n",
              "         [  0.        ,  -2.63812137,   0.57756828,  15.26937935,\n",
              "           -3.34295049,   0.        ,   0.        ]]]])"
            ]
          },
          "metadata": {
            "tags": []
          },
          "execution_count": 24
        }
      ]
    },
    {
      "cell_type": "code",
      "metadata": {
        "id": "x12p2drz1rkW",
        "colab_type": "code",
        "colab": {}
      },
      "source": [
        "np.random.seed(0)\n",
        "n=5\n",
        "lay=FC_Layer(n,1)\n",
        "m=3\n",
        "x=np.random.randn(m,n)\n",
        "y=np.random.randn(m,1)\n",
        "yhat=lay.feedforward(x)\n",
        "loss_grad=2*(yhat-y)\n",
        "lay.grad(x,loss_grad).reshape(-1,n)"
      ],
      "execution_count": 0,
      "outputs": []
    },
    {
      "cell_type": "code",
      "metadata": {
        "id": "N4vQrAUoaO3N",
        "colab_type": "code",
        "outputId": "d8a052a4-9f87-4f1e-abc6-90614befd981",
        "colab": {
          "base_uri": "https://localhost:8080/",
          "height": 67
        }
      },
      "source": [
        "loss_grad"
      ],
      "execution_count": 0,
      "outputs": [
        {
          "output_type": "execute_result",
          "data": {
            "text/plain": [
              "array([[5.45294691],\n",
              "       [4.98561353],\n",
              "       [2.94279091]])"
            ]
          },
          "metadata": {
            "tags": []
          },
          "execution_count": 43
        }
      ]
    },
    {
      "cell_type": "code",
      "metadata": {
        "id": "5TLOorWLaf0I",
        "colab_type": "code",
        "outputId": "3f69b864-961a-4005-fe83-0a88e122eea9",
        "colab": {
          "base_uri": "https://localhost:8080/",
          "height": 50
        }
      },
      "source": [
        "ll=lay.W*loss_grad[:,np.newaxis]\n",
        "ll.flatten()"
      ],
      "execution_count": 0,
      "outputs": [
        {
          "output_type": "execute_result",
          "data": {
            "text/plain": [
              "array([9.61928379, 2.18203601, 8.79488324, 1.99502919, 5.1912372 ,\n",
              "       1.17757899])"
            ]
          },
          "metadata": {
            "tags": []
          },
          "execution_count": 55
        }
      ]
    },
    {
      "cell_type": "code",
      "metadata": {
        "id": "99kxdVfgagzq",
        "colab_type": "code",
        "outputId": "f163ee52-fe0b-4d06-ff00-f65719416fd3",
        "colab": {
          "base_uri": "https://localhost:8080/",
          "height": 50
        }
      },
      "source": [
        "lay.W*loss_grad[0]"
      ],
      "execution_count": 0,
      "outputs": [
        {
          "output_type": "execute_result",
          "data": {
            "text/plain": [
              "array([[9.61928379],\n",
              "       [2.18203601]])"
            ]
          },
          "metadata": {
            "tags": []
          },
          "execution_count": 47
        }
      ]
    },
    {
      "cell_type": "code",
      "metadata": {
        "id": "VZm7Suu9ankc",
        "colab_type": "code",
        "colab": {}
      },
      "source": [
        "class ConvLayer:\n",
        "  def __init__(self,in_ch=1,out_ch=1,kernel=(2,2),stride=1):\n",
        "    self.filters=np.random.randn(out_ch,in_ch,kernel[0],kernel[1])\n",
        "    self.stride=stride\n",
        "\n",
        "  def feedforward(self,x):\n",
        "    if(x.shape[1]!=self.filters.shape[1]):\n",
        "      print(x.shape[1])\n",
        "      print(self.filters.shape[1])\n",
        "      raise Exception(\"channels in input and output are not same\")\n",
        "    self.out=strided_convolution3D(x,self.filters,self.stride)\n",
        "    return self.out\n",
        "  def grad(self,x,loss_grad):\n",
        "    self.df=strided_convolution3D_grad1(x,loss_grad,1).sum(axis=0)\n",
        "    gg=np.rot90(loss_grad,2,axes=(2,3))\n",
        "    gg1=np.pad(gg, ((0, 0),(0, 0),(1, 1),(1,1)), 'constant', constant_values=(0))\n",
        "    ooo=strided_convolution3D1_g(gg1,self.filters,1)\n",
        "    return np.rot90(ooo,2,axes=(3,4)).sum(axis=1)\n",
        "  def perturb_f(self,ep):\n",
        "    self.filters=self.filters+ep\n",
        "\n",
        "\n",
        "class Max_Pool_Layer:\n",
        "  def __init__(self,stride):\n",
        "    self.stride=stride\n",
        "  def feedforward(self,x):\n",
        "    self.m_indices=mx_pool(x,self.stride)\n",
        "    self.m=x.flatten()[self.m_indices].reshape(-1,x.shape[1],\n",
        "                                               int(x.shape[2]/self.stride),int(x.shape[3]/self.stride))\n",
        "    return self.m\n",
        "  def grad(self,x,grad_loss):\n",
        "    grad_zeros=np.zeros(x.shape[0]*x.shape[1]*x.shape[2]*x.shape[3])\n",
        "    grad_zeros[self.m_indices]=grad_loss.flatten()\n",
        "    gg=grad_zeros.reshape(x.shape)\n",
        "    return gg\n",
        "\n",
        "\n",
        "class FC_Layer:\n",
        "  def __init__(self,i_dim,out_dim):\n",
        "    self.W=np.random.randn(i_dim,out_dim)\n",
        "    self.dw=np.zeros(self.W.shape)\n",
        "  def feedforward(self,x):\n",
        "    self.out=np.dot(x,self.W)\n",
        "    return self.out\n",
        "  def grad(self,x,loss_grad):\n",
        "    return self.W*loss_grad[:,np.newaxis]\n",
        "\n",
        "class Network:\n",
        "  def __init__(self):\n",
        "    self.n=12\n",
        "    self.in_ch=2\n",
        "    self.m=10\n",
        "    self.f1=3\n",
        "    self.f2=2\n",
        "    self.cs=1\n",
        "    self.o_ch=2\n",
        "\n",
        "    self.mxs=2\n",
        "\n",
        "    self.conv1=ConvLayer(in_ch=self.in_ch,out_ch=self.o_ch,kernel=(self.f1,self.f1),stride=self.cs)\n",
        "\n",
        "    self.conv2=ConvLayer(in_ch=2,out_ch=1,kernel=(self.f2,self.f2),stride=self.cs)\n",
        "\n",
        "    self.mxp1=Max_Pool_Layer(self.mxs)\n",
        "\n",
        "    cos=(self.n-self.f1+1)//self.mxs-self.f2+1\n",
        "\n",
        "    self.FC1=FC_Layer(cos*cos,1)\n",
        "\n",
        "  def gen_images(self):\n",
        "    return np.random.randn(self.m,self.in_ch,self.n,self.n)\n",
        "\n",
        "  def feedforward(self,x):\n",
        "    c1=self.conv1.feedforward(x)\n",
        "    m1=self.mxp1.feedforward(c1)\n",
        "    c2=self.conv2.feedforward(m1)\n",
        "    f1=self.FC1.feedforward(c2.reshape(c2.shape[0],-1))\n",
        "    return f1\n",
        "  def backpropagate(self,x,y,yhat):\n",
        "    loss_grad=2*(yhat-y)\n",
        "    gradF1=self.FC1.grad(self.conv2.out.reshape(loss_grad.shape[0],-1),loss_grad).reshape(self.conv2.out.shape)\n",
        "    #print(gradF1.shape)\n",
        "    gradC2=self.conv2.grad(self.mxp1.m,gradF1)\n",
        "    #print(gradC2.shape)\n",
        "    grad_mxp1=self.mxp1.grad(self.conv1.out,gradC2)\n",
        "    gradC1=self.conv1.grad(x,grad_mxp1)\n",
        "    #print(gradC1)\n",
        "\n",
        "  def loss(self,y,yhat):\n",
        "    return np.sum(np.square(y-yhat))\n",
        "\n",
        "  def num_grad(self,x,y):\n",
        "    ep=np.zeros(x.shape)\n",
        "    dw=np.zeros(x.shape)\n",
        "    for dd in range(x.shape[0]):\n",
        "      for k in range(x.shape[1]):\n",
        "       for i in range(x.shape[2]):\n",
        "         for j in range(x.shape[3]):\n",
        "\n",
        "           ep[dd,k,i,j]=1e-4\n",
        "           yhat1=self.feedforward(x+ep)\n",
        "           yhat2=self.feedforward(x-ep)\n",
        "           #print(yhat1.shape)\n",
        "           dw[dd,k,i,j]=(self.loss(y,yhat1)-self.loss(y,yhat2))/2e-4\n",
        "           ep[dd,k,i,j]=0\n",
        "\n",
        "    return dw\n",
        "\n",
        "  def num_grad_df(self,x,y,shape,func):\n",
        "    #f=self.conv2.filters\n",
        "    #func=self.conv2.perturb_f\n",
        "    ep=np.zeros(shape)\n",
        "    dw=np.zeros(shape)\n",
        "    #print(self.conv2.filters)\n",
        "    for dd in range(shape[0]):\n",
        "      for k in range(shape[1]):\n",
        "       for i in range(shape[2]):\n",
        "         for j in range(shape[3]):\n",
        "\n",
        "           ep[dd,k,i,j]=1e-4\n",
        "           func(ep)\n",
        "           #print(self.conv2.filters)\n",
        "           yhat1=self.feedforward(x)\n",
        "           func(-2*ep)\n",
        "           yhat2=self.feedforward(x)\n",
        "           #print(self.conv2.filters)\n",
        "           func(ep)\n",
        "           #print(yhat1.shape)\n",
        "           dw[dd,k,i,j]=(self.loss(y,yhat1)-self.loss(y,yhat2))/2e-4\n",
        "           ep[dd,k,i,j]=0\n",
        "\n",
        "    return dw"
      ],
      "execution_count": 0,
      "outputs": []
    },
    {
      "cell_type": "code",
      "metadata": {
        "id": "beXsdh2WzBhb",
        "colab_type": "code",
        "colab": {
          "base_uri": "https://localhost:8080/",
          "height": 554
        },
        "outputId": "09200efd-2318-487f-d7c2-432b43852517"
      },
      "source": [
        "np.random.seed(100)\n",
        "nn=Network()\n",
        "img=nn.gen_images()*10\n",
        "y=np.random.randn(img.shape[0],1)\n",
        "yhat=nn.feedforward(img)\n",
        "nn.backpropagate(img,y,yhat)\n",
        "#nn.num_grad(img,y)\n",
        "print(nn.conv1.df)\n",
        "nn.num_grad_df(img,y,nn.conv1.filters.shape,nn.conv1.perturb_f)"
      ],
      "execution_count": 72,
      "outputs": [
        {
          "output_type": "stream",
          "text": [
            "[[[[-1647226.65336475  -500902.02328258   846200.26792343]\n",
            "   [ -579101.24084628   863026.29740094   492295.56445153]\n",
            "   [  189301.57272224 -1086762.09144228  -737160.67987375]]\n",
            "\n",
            "  [[  938565.71598106  -334080.03171034  1060481.80275155]\n",
            "   [ -211906.06289044  3194256.63685154  1063801.93299418]\n",
            "   [ 1365172.63262884   319152.54777431  1056268.09502134]]]\n",
            "\n",
            "\n",
            " [[[ -417009.75933885  -642843.20982547   328638.7936571 ]\n",
            "   [  481879.54290746  -387757.37856268  -542231.24471764]\n",
            "   [ -318771.32715056   368763.82471907   135132.8771429 ]]\n",
            "\n",
            "  [[  603316.64427842   -82222.70565587   271685.5415042 ]\n",
            "   [  613111.99023078  -793781.28773355   235643.78667596]\n",
            "   [  390771.17595606   390919.57524453   203022.54567157]]]]\n"
          ],
          "name": "stdout"
        },
        {
          "output_type": "execute_result",
          "data": {
            "text/plain": [
              "array([[[[-1647226.65335983,  -500902.0232968 ,   846200.267924  ],\n",
              "         [ -579101.24083981,   863026.29740909,   492295.56445032],\n",
              "         [  189301.57271214, -1086762.09143363,  -737160.67988425]],\n",
              "\n",
              "        [[  938565.71597978,  -334080.03170975,  1060481.80275597],\n",
              "         [ -211906.06288612,  3194256.63684495,  1063801.93298683],\n",
              "         [ 1365172.63262533,   319152.54778229,  1056268.09502952]]],\n",
              "\n",
              "\n",
              "       [[[ -417009.75934975,  -642843.20982173,   328638.79366778],\n",
              "         [  481879.5429077 ,  -387757.37856515,  -542231.24471493],\n",
              "         [ -318771.32715657,   368763.82472925,   135132.87714683]],\n",
              "\n",
              "        [[  603316.64427184,   -82222.70565107,   271685.54149568],\n",
              "         [  613111.99022457,  -793781.2877167 ,   235643.78667623],\n",
              "         [  390771.17595822,   390919.57524419,   203022.54566923]]]])"
            ]
          },
          "metadata": {
            "tags": []
          },
          "execution_count": 72
        }
      ]
    },
    {
      "cell_type": "code",
      "metadata": {
        "id": "AVnPfYsV51NB",
        "colab_type": "code",
        "colab": {
          "base_uri": "https://localhost:8080/",
          "height": 34
        },
        "outputId": "0a411841-acbf-4f81-c67e-344022a458ca"
      },
      "source": [
        "nn.conv2.filters.shape"
      ],
      "execution_count": 37,
      "outputs": [
        {
          "output_type": "execute_result",
          "data": {
            "text/plain": [
              "(1, 1, 2, 2)"
            ]
          },
          "metadata": {
            "tags": []
          },
          "execution_count": 37
        }
      ]
    },
    {
      "cell_type": "code",
      "metadata": {
        "id": "UNkD9WpBzGxk",
        "colab_type": "code",
        "colab": {
          "base_uri": "https://localhost:8080/",
          "height": 118
        },
        "outputId": "0a6c12df-9d3c-4e86-963a-399208dd7d39"
      },
      "source": [
        "ftft=nn.conv1.filters\n",
        "print(ftft)\n",
        "ftft[0]=0\n",
        "print(ftft)\n",
        "print(nn.conv1.filters)"
      ],
      "execution_count": 29,
      "outputs": [
        {
          "output_type": "stream",
          "text": [
            "[[[[-1.74976547  0.3426804 ]\n",
            "   [ 1.1530358  -0.25243604]]]]\n",
            "[[[[0. 0.]\n",
            "   [0. 0.]]]]\n",
            "[[[[0. 0.]\n",
            "   [0. 0.]]]]\n"
          ],
          "name": "stdout"
        }
      ]
    },
    {
      "cell_type": "code",
      "metadata": {
        "id": "E6THLnoZ36en",
        "colab_type": "code",
        "colab": {}
      },
      "source": [
        ""
      ],
      "execution_count": 0,
      "outputs": []
    }
  ]
}