{
  "nbformat": 4,
  "nbformat_minor": 0,
  "metadata": {
    "colab": {
      "name": "convnet2.ipynb",
      "provenance": [],
      "collapsed_sections": [],
      "authorship_tag": "ABX9TyM8m1R7q/YmATSoC4faIkTu",
      "include_colab_link": true
    },
    "kernelspec": {
      "name": "python3",
      "display_name": "Python 3"
    }
  },
  "cells": [
    {
      "cell_type": "markdown",
      "metadata": {
        "id": "view-in-github",
        "colab_type": "text"
      },
      "source": [
        "<a href=\"https://colab.research.google.com/github/menasiraziz/Convnet/blob/master/convnet2.ipynb\" target=\"_parent\"><img src=\"https://colab.research.google.com/assets/colab-badge.svg\" alt=\"Open In Colab\"/></a>"
      ]
    },
    {
      "cell_type": "code",
      "metadata": {
        "id": "U6SP1-Wn0LPp",
        "colab_type": "code",
        "colab": {}
      },
      "source": [
        "import numpy as np"
      ],
      "execution_count": 0,
      "outputs": []
    },
    {
      "cell_type": "code",
      "metadata": {
        "id": "chEltUT71tFF",
        "colab_type": "code",
        "colab": {}
      },
      "source": [
        "from numpy.lib.stride_tricks import as_strided\n",
        "\n",
        "\n",
        "def strided_convolution3D(image, weight, stride):\n",
        "    m,ch,im_h, im_w = image.shape\n",
        "    f,t,f_h, f_w = weight.shape\n",
        "    out_shape = (m,ch,1 + (im_h - f_h) // stride, 1 + (im_w - f_w) // stride, f_h, f_w)\n",
        "    out_strides = (image.strides[0],image.strides[1],image.strides[2] * stride, image.strides[3] * stride, image.strides[2], image.strides[3])\n",
        "    windows = as_strided(image, shape=out_shape, strides=out_strides)\n",
        "    return np.einsum('mcopjk,ecjk->meop',windows,weight)\n",
        "\n",
        "def mx_pool(img,s): # function takes advatange of row order of numpy array\n",
        "  m,ch,n,n=img.shape # flatten all images into stride \n",
        "  c=img.reshape(-1,s) #change s to change horizontal stride\n",
        "  ind=np.argmax(c,axis=1)\n",
        "  ind1=np.ravel_multi_index([np.arange(ind.shape[0]),ind], (ind.shape[0],s))\n",
        "  d=img.flatten()[ind1]\n",
        "  g=d.reshape(-1,s,int(n/s)) #probably i need to change s in the middle to change vertical stride\n",
        "\n",
        "  h=g.argmax(axis=1)\n",
        "  i1=np.arange(g.shape[0]) # varies along images in data \n",
        "  i2=np.arange(g.shape[2]) # varies along col axis in indices\n",
        "  ss=i1[:,np.newaxis]*n+g.shape[2]*h+i2 # i2 is varying along col and i1 is varying along batch and row dim\n",
        "  return ind1[ss.flatten()]\n",
        "\n",
        "\n",
        "import numpy as np\n",
        "from numpy.lib.stride_tricks import as_strided\n",
        "\n",
        "\n",
        "def strided_convolution3D1_g(image, weight, stride):\n",
        "    m,ch,im_h, im_w = image.shape\n",
        "    f,t,f_h, f_w = weight.shape\n",
        "    #print(m)\n",
        "    out_shape = (m,ch,1 + (im_h - f_h) // stride, 1 + (im_w - f_w) // stride, f_h, f_w)\n",
        "    out_strides = (image.strides[0],image.strides[1],image.strides[2] * stride, image.strides[3] * stride, image.strides[2], image.strides[3])\n",
        "    windows = as_strided(image, shape=out_shape, strides=out_strides)\n",
        "    #print(windows.shape)\n",
        "    #print(windows)\n",
        "    return np.einsum('meopjk,ecjk->mecop',windows,weight)\n",
        "    #return np.einsum('meopjk,ecjk->meop',windows,weight)\n",
        "    #return np.einsum('meopjk,ecjk->mecop',windows,weight)\n",
        "\n",
        "def strided_convolution3D_grad1(image, weight, stride):\n",
        "    m,ch,im_h, im_w = image.shape\n",
        "    m1,m2,f_h, f_w = weight.shape\n",
        "    \n",
        "    #print(m)\n",
        "    out_shape = (m,ch,1 + (im_h - f_h) // stride, 1 + (im_w - f_w) // stride, f_h, f_w)\n",
        "    out_strides = (image.strides[0],image.strides[1],image.strides[2] * stride, image.strides[3] * stride, image.strides[2], image.strides[3])\n",
        "    windows = as_strided(image, shape=out_shape, strides=out_strides)\n",
        "    #print(windows.shape)\n",
        "    #print(windows[0])\n",
        "    #print(windows*gg1)\n",
        "    return np.einsum('mcopjk,mejk->mecop',windows,weight)\n"
      ],
      "execution_count": 0,
      "outputs": []
    },
    {
      "cell_type": "code",
      "metadata": {
        "id": "nMWRjGVX0PeW",
        "colab_type": "code",
        "colab": {}
      },
      "source": [
        "class ConvLayer:\n",
        "  def __init__(self,in_ch=1,out_ch=1,kernel=(2,2),stride=1):\n",
        "    self.filters=np.random.randn(out_ch,in_ch,kernel[0],kernel[1])\n",
        "    self.stride=stride\n",
        "\n",
        "  def feedforward(self,x):\n",
        "    self.out=strided_convolution3D(x,self.filters,self.stride)\n",
        "    return self.out\n",
        "  def grad(self,x,loss_grad):\n",
        "    self.df=strided_convolution3D_grad1(x,loss_grad,1).sum(axis=0)\n",
        "    gg=np.rot90(loss_grad,2,axes=(2,3))\n",
        "    gg1=np.pad(gg, ((0, 0),(0, 0),(1, 1),(1,1)), 'constant', constant_values=(0))\n",
        "    ooo=strided_convolution3D1_g(gg1,self.filters,1)\n",
        "    return np.rot90(ooo,2,axes=(3,4)).sum(axis=1)\n",
        "\n",
        "class FC_Layer:\n",
        "  def __init__(self,i_dim,out_dim):\n",
        "    self.W=np.random.randn(i_dim,out_dim)\n",
        "    self.dw=np.zeros(self.W.shape)\n",
        "  def feedforward(self,x):\n",
        "    self.out=np.dot(x,self.W)\n",
        "    return self.out\n",
        "  def grad(self,x,loss_grad):\n",
        "    return self.W*loss_grad[:,np.newaxis]\n",
        "\n",
        "class Network:\n",
        "  def __init__(self):\n",
        "    self.n=3\n",
        "    self.in_ch=2\n",
        "    self.m=2\n",
        "    self.f=2\n",
        "    self.cs=1\n",
        "    self.o_ch=2\n",
        "\n",
        "    self.conv1=ConvLayer(in_ch=self.in_ch,out_ch=self.o_ch,kernel=(self.f,self.f),stride=self.cs)\n",
        "    cos=self.n-self.f+1\n",
        "    self.FC1=FC_Layer(self.o_ch*cos*cos,1)\n",
        "\n",
        "  def gen_images(self):\n",
        "    return np.random.randn(self.m,self.in_ch,self.n,self.n)\n",
        "\n",
        "  def feedforward(self,x):\n",
        "    c1=self.conv1.feedforward(x)\n",
        "    f1=self.FC1.feedforward(c1.reshape(c1.shape[0],-1))\n",
        "    return f1\n",
        "  def backpropagate(self,x,y,yhat):\n",
        "    loss_grad=2*(yhat-y)\n",
        "    gradF1=self.FC1.grad(self.conv1.out.reshape(loss_grad.shape[0],-1),loss_grad).reshape(self.conv1.out.shape)\n",
        "    print(gradF1.shape)\n",
        "    gradC1=self.conv1.grad(x,gradF1)\n",
        "    print(gradC1.shape)\n",
        "    print(gradC1)\n",
        "\n",
        "  def loss(self,y,yhat):\n",
        "    return np.sum(np.square(y-yhat))\n",
        "\n",
        "  def num_grad(self,x,y):\n",
        "    ep=np.zeros(x.shape)\n",
        "    dw=np.zeros(x.shape)\n",
        "    for dd in range(x.shape[0]):\n",
        "      for k in range(x.shape[1]):\n",
        "       for i in range(x.shape[2]):\n",
        "         for j in range(x.shape[3]):\n",
        "\n",
        "           ep[dd,k,i,j]=1e-4\n",
        "           yhat1=self.feedforward(x+ep)\n",
        "           yhat2=self.feedforward(x-ep)\n",
        "           #print(yhat1.shape)\n",
        "           dw[dd,k,i,j]=(self.loss(y,yhat1)-self.loss(y,yhat2))/2e-4\n",
        "           ep[dd,k,i,j]=0\n",
        "\n",
        "    return dw"
      ],
      "execution_count": 0,
      "outputs": []
    },
    {
      "cell_type": "code",
      "metadata": {
        "id": "-uQyJjngmRn_",
        "colab_type": "code",
        "colab": {
          "base_uri": "https://localhost:8080/",
          "height": 588
        },
        "outputId": "c499e24d-67d9-42e4-f234-42c186ad4922"
      },
      "source": [
        "np.random.seed(100)\n",
        "nn=Network()\n",
        "img=nn.gen_images()*10\n",
        "y=np.random.randn(img.shape[0],1)\n",
        "yhat=nn.feedforward(img)\n",
        "nn.backpropagate(img,y,yhat)\n",
        "nn.num_grad(img,y)"
      ],
      "execution_count": 112,
      "outputs": [
        {
          "output_type": "stream",
          "text": [
            "(2, 2, 2, 2)\n",
            "(2, 2, 3, 3)\n",
            "[[[[  2.14308401  -6.41087007   2.56684851]\n",
            "   [ -1.85725554  11.08632085  -0.6439289 ]\n",
            "   [ -1.34132861  -3.10579497  -0.2900457 ]]\n",
            "\n",
            "  [[ -5.04500648   3.99176224   6.15496469]\n",
            "   [  2.36960656   2.15898573  -8.6917963 ]\n",
            "   [ -0.91648844  -1.09747722   4.42021565]]]\n",
            "\n",
            "\n",
            " [[[-17.78687048  53.20804735 -21.30397206]\n",
            "   [ 15.41459111 -92.01270314   5.34439146]\n",
            "   [ 11.13257256  25.7770449    2.40728096]]\n",
            "\n",
            "  [[ 41.87184278 -33.13027279 -51.08411952]\n",
            "   [-19.6669308  -17.91884938  72.13896151]\n",
            "   [  7.60654324   9.10868876 -36.68629077]]]]\n"
          ],
          "name": "stdout"
        },
        {
          "output_type": "execute_result",
          "data": {
            "text/plain": [
              "array([[[[  2.14308401,  -6.41087007,   2.56684851],\n",
              "         [ -1.85725554,  11.08632085,  -0.6439289 ],\n",
              "         [ -1.34132861,  -3.10579497,  -0.2900457 ]],\n",
              "\n",
              "        [[ -5.04500648,   3.99176224,   6.15496469],\n",
              "         [  2.36960656,   2.15898573,  -8.6917963 ],\n",
              "         [ -0.91648844,  -1.09747722,   4.42021565]]],\n",
              "\n",
              "\n",
              "       [[[-17.78687048,  53.20804735, -21.30397206],\n",
              "         [ 15.41459111, -92.01270314,   5.34439146],\n",
              "         [ 11.13257256,  25.7770449 ,   2.40728096]],\n",
              "\n",
              "        [[ 41.87184278, -33.13027279, -51.08411952],\n",
              "         [-19.6669308 , -17.91884937,  72.13896151],\n",
              "         [  7.60654324,   9.10868876, -36.68629077]]]])"
            ]
          },
          "metadata": {
            "tags": []
          },
          "execution_count": 112
        }
      ]
    },
    {
      "cell_type": "code",
      "metadata": {
        "id": "x12p2drz1rkW",
        "colab_type": "code",
        "colab": {
          "base_uri": "https://localhost:8080/",
          "height": 67
        },
        "outputId": "b2819f43-68c9-4edc-c8b5-7005d2043315"
      },
      "source": [
        "np.random.seed(0)\n",
        "n=5\n",
        "lay=FC_Layer(n,1)\n",
        "m=3\n",
        "x=np.random.randn(m,n)\n",
        "y=np.random.randn(m,1)\n",
        "yhat=lay.feedforward(x)\n",
        "loss_grad=2*(yhat-y)\n",
        "lay.grad(x,loss_grad).reshape(-1,n)"
      ],
      "execution_count": 68,
      "outputs": [
        {
          "output_type": "execute_result",
          "data": {
            "text/plain": [
              "array([[ 5.63290227,  1.27776619,  3.12526747,  7.15553164,  5.9634124 ],\n",
              "       [ 7.15809189,  1.62373984,  3.97147876,  9.09299515,  7.57809241],\n",
              "       [-2.72464564, -0.61805796, -1.51169788, -3.4611444 , -2.88451403]])"
            ]
          },
          "metadata": {
            "tags": []
          },
          "execution_count": 68
        }
      ]
    },
    {
      "cell_type": "code",
      "metadata": {
        "id": "N4vQrAUoaO3N",
        "colab_type": "code",
        "colab": {
          "base_uri": "https://localhost:8080/",
          "height": 67
        },
        "outputId": "d8a052a4-9f87-4f1e-abc6-90614befd981"
      },
      "source": [
        "loss_grad"
      ],
      "execution_count": 43,
      "outputs": [
        {
          "output_type": "execute_result",
          "data": {
            "text/plain": [
              "array([[5.45294691],\n",
              "       [4.98561353],\n",
              "       [2.94279091]])"
            ]
          },
          "metadata": {
            "tags": []
          },
          "execution_count": 43
        }
      ]
    },
    {
      "cell_type": "code",
      "metadata": {
        "id": "5TLOorWLaf0I",
        "colab_type": "code",
        "colab": {
          "base_uri": "https://localhost:8080/",
          "height": 50
        },
        "outputId": "3f69b864-961a-4005-fe83-0a88e122eea9"
      },
      "source": [
        "ll=lay.W*loss_grad[:,np.newaxis]\n",
        "ll.flatten()"
      ],
      "execution_count": 55,
      "outputs": [
        {
          "output_type": "execute_result",
          "data": {
            "text/plain": [
              "array([9.61928379, 2.18203601, 8.79488324, 1.99502919, 5.1912372 ,\n",
              "       1.17757899])"
            ]
          },
          "metadata": {
            "tags": []
          },
          "execution_count": 55
        }
      ]
    },
    {
      "cell_type": "code",
      "metadata": {
        "id": "99kxdVfgagzq",
        "colab_type": "code",
        "colab": {
          "base_uri": "https://localhost:8080/",
          "height": 50
        },
        "outputId": "f163ee52-fe0b-4d06-ff00-f65719416fd3"
      },
      "source": [
        "lay.W*loss_grad[0]"
      ],
      "execution_count": 47,
      "outputs": [
        {
          "output_type": "execute_result",
          "data": {
            "text/plain": [
              "array([[9.61928379],\n",
              "       [2.18203601]])"
            ]
          },
          "metadata": {
            "tags": []
          },
          "execution_count": 47
        }
      ]
    },
    {
      "cell_type": "code",
      "metadata": {
        "id": "VZm7Suu9ankc",
        "colab_type": "code",
        "colab": {}
      },
      "source": [
        ""
      ],
      "execution_count": 0,
      "outputs": []
    }
  ]
}