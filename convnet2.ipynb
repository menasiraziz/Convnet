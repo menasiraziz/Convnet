{
  "nbformat": 4,
  "nbformat_minor": 0,
  "metadata": {
    "colab": {
      "name": "convnet2.ipynb",
      "provenance": [],
      "collapsed_sections": [],
      "authorship_tag": "ABX9TyOhf5oeD/oGgfAHtpMJKchz",
      "include_colab_link": true
    },
    "kernelspec": {
      "name": "python3",
      "display_name": "Python 3"
    }
  },
  "cells": [
    {
      "cell_type": "markdown",
      "metadata": {
        "id": "view-in-github",
        "colab_type": "text"
      },
      "source": [
        "<a href=\"https://colab.research.google.com/github/menasiraziz/Convnet/blob/work/convnet2.ipynb\" target=\"_parent\"><img src=\"https://colab.research.google.com/assets/colab-badge.svg\" alt=\"Open In Colab\"/></a>"
      ]
    },
    {
      "cell_type": "code",
      "metadata": {
        "id": "U6SP1-Wn0LPp",
        "colab_type": "code",
        "colab": {}
      },
      "source": [
        "import numpy as np"
      ],
      "execution_count": 0,
      "outputs": []
    },
    {
      "cell_type": "code",
      "metadata": {
        "id": "chEltUT71tFF",
        "colab_type": "code",
        "colab": {}
      },
      "source": [
        "from numpy.lib.stride_tricks import as_strided\n",
        "\n",
        "\n",
        "def strided_convolution3D(image, weight, stride):\n",
        "    m,ch,im_h, im_w = image.shape\n",
        "    f,t,f_h, f_w = weight.shape\n",
        "    out_shape = (m,ch,1 + (im_h - f_h) // stride, 1 + (im_w - f_w) // stride, f_h, f_w)\n",
        "    out_strides = (image.strides[0],image.strides[1],image.strides[2] * stride, image.strides[3] * stride, image.strides[2], image.strides[3])\n",
        "    windows = as_strided(image, shape=out_shape, strides=out_strides)\n",
        "    return np.einsum('mcopjk,ecjk->meop',windows,weight)\n",
        "\n",
        "def mx_pool(img,s): # function takes advatange of row order of numpy array\n",
        "  m,ch,n,n=img.shape # flatten all images into stride \n",
        "  c=img.reshape(-1,s) #change s to change horizontal stride\n",
        "  ind=np.argmax(c,axis=1)\n",
        "  ind1=np.ravel_multi_index([np.arange(ind.shape[0]),ind], (ind.shape[0],s))\n",
        "  d=img.flatten()[ind1]\n",
        "  g=d.reshape(-1,s,int(n/s)) #probably i need to change s in the middle to change vertical stride\n",
        "\n",
        "  h=g.argmax(axis=1)\n",
        "  i1=np.arange(g.shape[0]) # varies along images in data \n",
        "  i2=np.arange(g.shape[2]) # varies along col axis in indices\n",
        "  ss=i1[:,np.newaxis]*n+g.shape[2]*h+i2 # i2 is varying along col and i1 is varying along batch and row dim\n",
        "  return ind1[ss.flatten()]\n",
        "\n",
        "\n",
        "import numpy as np\n",
        "from numpy.lib.stride_tricks import as_strided\n",
        "\n",
        "\n",
        "def strided_convolution3D1_g(image, weight, stride):\n",
        "    m,ch,im_h, im_w = image.shape\n",
        "    f,t,f_h, f_w = weight.shape\n",
        "    #print(m)\n",
        "    out_shape = (m,ch,1 + (im_h - f_h) // stride, 1 + (im_w - f_w) // stride, f_h, f_w)\n",
        "    out_strides = (image.strides[0],image.strides[1],image.strides[2] * stride, image.strides[3] * stride, image.strides[2], image.strides[3])\n",
        "    windows = as_strided(image, shape=out_shape, strides=out_strides)\n",
        "    #print(windows.shape)\n",
        "    #print(windows)\n",
        "    return np.einsum('meopjk,ecjk->mecop',windows,weight)\n",
        "    #return np.einsum('meopjk,ecjk->meop',windows,weight)\n",
        "    #return np.einsum('meopjk,ecjk->mecop',windows,weight)\n",
        "\n",
        "def strided_convolution3D_grad1(image, weight, stride):\n",
        "    m,ch,im_h, im_w = image.shape\n",
        "    m1,m2,f_h, f_w = weight.shape\n",
        "    \n",
        "    #print(m)\n",
        "    out_shape = (m,ch,1 + (im_h - f_h) // stride, 1 + (im_w - f_w) // stride, f_h, f_w)\n",
        "    out_strides = (image.strides[0],image.strides[1],image.strides[2] * stride, image.strides[3] * stride, image.strides[2], image.strides[3])\n",
        "    windows = as_strided(image, shape=out_shape, strides=out_strides)\n",
        "    #print(windows.shape)\n",
        "    #print(windows[0])\n",
        "    #print(windows*gg1)\n",
        "    return np.einsum('mcopjk,mejk->mecop',windows,weight)\n"
      ],
      "execution_count": 0,
      "outputs": []
    },
    {
      "cell_type": "code",
      "metadata": {
        "id": "nMWRjGVX0PeW",
        "colab_type": "code",
        "colab": {}
      },
      "source": [
        "class ConvLayer:\n",
        "  def __init__(self,in_ch=1,out_ch=1,kernel=(2,2),stride=1):\n",
        "    self.filters=np.random.randn(out_ch,in_ch,kernel[0],kernel[1])\n",
        "    self.stride=stride\n",
        "\n",
        "  def feedforward(self,x):\n",
        "    if(x.shape[1]!=self.filters.shape[1]):\n",
        "      print(x.shape[1])\n",
        "      print(self.filters.shape[1])\n",
        "      raise Exception(\"channels in input and output are not same\")\n",
        "    self.out=strided_convolution3D(x,self.filters,self.stride)\n",
        "    return self.out\n",
        "  def grad(self,x,loss_grad):\n",
        "    self.df=strided_convolution3D_grad1(x,loss_grad,1).sum(axis=0)\n",
        "    gg=np.rot90(loss_grad,2,axes=(2,3))\n",
        "    gg1=np.pad(gg, ((0, 0),(0, 0),(1, 1),(1,1)), 'constant', constant_values=(0))\n",
        "    ooo=strided_convolution3D1_g(gg1,self.filters,1)\n",
        "    return np.rot90(ooo,2,axes=(3,4)).sum(axis=1)\n",
        "\n",
        "class FC_Layer:\n",
        "  def __init__(self,i_dim,out_dim):\n",
        "    self.W=np.random.randn(i_dim,out_dim)\n",
        "    self.dw=np.zeros(self.W.shape)\n",
        "  def feedforward(self,x):\n",
        "    self.out=np.dot(x,self.W)\n",
        "    return self.out\n",
        "  def grad(self,x,loss_grad):\n",
        "    return self.W*loss_grad[:,np.newaxis]\n",
        "\n",
        "class Network:\n",
        "  def __init__(self):\n",
        "    self.n=5\n",
        "    self.in_ch=2\n",
        "    self.m=2\n",
        "    self.f1=2\n",
        "    self.f2=2\n",
        "    self.cs=1\n",
        "    self.o_ch=2\n",
        "\n",
        "    self.conv1=ConvLayer(in_ch=self.in_ch,out_ch=self.o_ch,kernel=(self.f1,self.f1),stride=self.cs)\n",
        "\n",
        "    self.conv2=ConvLayer(in_ch=2,out_ch=1,kernel=(self.f2,self.f2),stride=self.cs)\n",
        "\n",
        "    cos=self.n-self.f1+1-self.f2+1\n",
        "\n",
        "    self.FC1=FC_Layer(cos*cos,1)\n",
        "\n",
        "  def gen_images(self):\n",
        "    return np.random.randn(self.m,self.in_ch,self.n,self.n)\n",
        "\n",
        "  def feedforward(self,x):\n",
        "    c1=self.conv1.feedforward(x)\n",
        "    c2=self.conv2.feedforward(c1)\n",
        "    f1=self.FC1.feedforward(c2.reshape(c2.shape[0],-1))\n",
        "    return f1\n",
        "  def backpropagate(self,x,y,yhat):\n",
        "    loss_grad=2*(yhat-y)\n",
        "    gradF1=self.FC1.grad(self.conv2.out.reshape(loss_grad.shape[0],-1),loss_grad).reshape(self.conv2.out.shape)\n",
        "    print(gradF1.shape)\n",
        "    gradC1=self.conv2.grad(self.conv1.out,gradF1)\n",
        "    print(gradC1.shape)\n",
        "    gradC2=self.conv1.grad(x,gradC1)\n",
        "    print(gradC2)\n",
        "\n",
        "  def loss(self,y,yhat):\n",
        "    return np.sum(np.square(y-yhat))\n",
        "\n",
        "  def num_grad(self,x,y):\n",
        "    ep=np.zeros(x.shape)\n",
        "    dw=np.zeros(x.shape)\n",
        "    for dd in range(x.shape[0]):\n",
        "      for k in range(x.shape[1]):\n",
        "       for i in range(x.shape[2]):\n",
        "         for j in range(x.shape[3]):\n",
        "\n",
        "           ep[dd,k,i,j]=1e-4\n",
        "           yhat1=self.feedforward(x+ep)\n",
        "           yhat2=self.feedforward(x-ep)\n",
        "           #print(yhat1.shape)\n",
        "           dw[dd,k,i,j]=(self.loss(y,yhat1)-self.loss(y,yhat2))/2e-4\n",
        "           ep[dd,k,i,j]=0\n",
        "\n",
        "    return dw"
      ],
      "execution_count": 0,
      "outputs": []
    },
    {
      "cell_type": "code",
      "metadata": {
        "id": "-uQyJjngmRn_",
        "colab_type": "code",
        "colab": {
          "base_uri": "https://localhost:8080/",
          "height": 1000
        },
        "outputId": "04d772cb-8a84-41e3-ae75-05d7ce2840f9"
      },
      "source": [
        "np.random.seed(100)\n",
        "nn=Network()\n",
        "img=nn.gen_images()*10\n",
        "y=np.random.randn(img.shape[0],1)\n",
        "yhat=nn.feedforward(img)\n",
        "nn.backpropagate(img,y,yhat)\n",
        "nn.num_grad(img,y)"
      ],
      "execution_count": 157,
      "outputs": [
        {
          "output_type": "stream",
          "text": [
            "(2, 1, 3, 3)\n",
            "(2, 2, 4, 4)\n",
            "[[[[   5.2803453    11.0206044   -52.97564152  -30.45846987\n",
            "      25.05535623]\n",
            "   [  34.38736682 -121.81627972  195.19616791   84.20951284\n",
            "      -4.37715752]\n",
            "   [ -30.70732709  124.87614945   -4.52843334   -7.61742912\n",
            "     -29.23420921]\n",
            "   [ -29.90227119   18.09206879 -189.54489264 -100.60413848\n",
            "       6.28783104]\n",
            "   [  -3.98338212   16.62597898   72.53878344   36.95708494\n",
            "       2.92936395]]\n",
            "\n",
            "  [[ -12.43039288  -53.2927177    15.86903381  115.98102954\n",
            "      60.07944476]\n",
            "   [ -85.88490353  129.52220678  119.49321087 -111.53122486\n",
            "     -80.26590254]\n",
            "   [  25.84143401  123.83683525 -185.15255034  -74.86400971\n",
            "     -25.4786504 ]\n",
            "   [  -9.62560855  -55.21491631   -6.88767672  125.62680477\n",
            "      91.07041943]\n",
            "   [  -2.72172206   14.40285173   43.53304386  -74.09981528\n",
            "     -44.64269   ]]]\n",
            "\n",
            "\n",
            " [[[  14.72393541   30.73031367 -147.71949178  -84.93166972\n",
            "      69.86540196]\n",
            "   [  95.88717013 -339.67760305  544.29314859  234.81332332\n",
            "     -12.20544888]\n",
            "   [ -85.62559361  348.20987163  -12.62727269  -21.24075756\n",
            "     -81.51789017]\n",
            "   [ -83.3807421    50.44868038 -528.53489655 -280.52878232\n",
            "      17.53325074]\n",
            "   [ -11.1074291    46.3605743   202.27017394  103.05267946\n",
            "       8.16836082]]\n",
            "\n",
            "  [[ -34.66142677 -148.60364026   44.24987679  323.40634768\n",
            "     167.52803348]\n",
            "   [-239.48505269  361.16513196  333.19986083 -310.99832642\n",
            "    -223.81679562]\n",
            "   [  72.05733409  345.31180449 -516.28710579 -208.75393198\n",
            "     -71.04573311]\n",
            "   [ -26.84044898 -153.96357915  -19.2058855   350.30303027\n",
            "     253.94456185]\n",
            "   [  -7.58936349   40.16151341  121.38935803 -206.62302032\n",
            "    -124.48354168]]]]\n"
          ],
          "name": "stdout"
        },
        {
          "output_type": "execute_result",
          "data": {
            "text/plain": [
              "array([[[[   5.2803453 ,   11.0206044 ,  -52.97564152,  -30.45846986,\n",
              "            25.05535623],\n",
              "         [  34.38736682, -121.81627972,  195.1961679 ,   84.20951284,\n",
              "            -4.37715752],\n",
              "         [ -30.70732709,  124.87614945,   -4.52843334,   -7.61742912,\n",
              "           -29.23420921],\n",
              "         [ -29.90227119,   18.09206879, -189.54489264, -100.60413848,\n",
              "             6.28783104],\n",
              "         [  -3.98338212,   16.62597898,   72.53878345,   36.95708494,\n",
              "             2.92936395]],\n",
              "\n",
              "        [[ -12.43039288,  -53.29271771,   15.86903381,  115.98102953,\n",
              "            60.07944476],\n",
              "         [ -85.88490353,  129.52220678,  119.49321087, -111.53122486,\n",
              "           -80.26590254],\n",
              "         [  25.84143401,  123.83683525, -185.15255033,  -74.86400971,\n",
              "           -25.4786504 ],\n",
              "         [  -9.62560855,  -55.21491631,   -6.88767673,  125.62680477,\n",
              "            91.07041943],\n",
              "         [  -2.72172206,   14.40285173,   43.53304386,  -74.09981528,\n",
              "           -44.64269   ]]],\n",
              "\n",
              "\n",
              "       [[[  14.72393541,   30.73031368, -147.71949177,  -84.93166975,\n",
              "            69.86540196],\n",
              "         [  95.88717015, -339.67760305,  544.29314856,  234.81332331,\n",
              "           -12.20544887],\n",
              "         [ -85.62559362,  348.20987164,  -12.62727269,  -21.24075754,\n",
              "           -81.51789017],\n",
              "         [ -83.3807421 ,   50.44868038, -528.53489658, -280.5287823 ,\n",
              "            17.53325074],\n",
              "         [ -11.1074291 ,   46.3605743 ,  202.27017393,  103.05267946,\n",
              "             8.16836081]],\n",
              "\n",
              "        [[ -34.66142677, -148.60364026,   44.24987681,  323.40634768,\n",
              "           167.52803348],\n",
              "         [-239.48505268,  361.16513197,  333.19986082, -310.99832642,\n",
              "          -223.81679562],\n",
              "         [  72.05733408,  345.31180449, -516.28710581, -208.75393196,\n",
              "           -71.04573312],\n",
              "         [ -26.840449  , -153.96357916,  -19.20588549,  350.30303028,\n",
              "           253.94456184],\n",
              "         [  -7.58936349,   40.16151341,  121.38935803, -206.62302031,\n",
              "          -124.48354167]]]])"
            ]
          },
          "metadata": {
            "tags": []
          },
          "execution_count": 157
        }
      ]
    },
    {
      "cell_type": "code",
      "metadata": {
        "id": "x12p2drz1rkW",
        "colab_type": "code",
        "colab": {
          "base_uri": "https://localhost:8080/",
          "height": 67
        },
        "outputId": "c7c6efc5-811a-45a1-fd1e-eec7c17ac174"
      },
      "source": [
        "np.random.seed(0)\n",
        "n=5\n",
        "lay=FC_Layer(n,1)\n",
        "m=3\n",
        "x=np.random.randn(m,n)\n",
        "y=np.random.randn(m,1)\n",
        "yhat=lay.feedforward(x)\n",
        "loss_grad=2*(yhat-y)\n",
        "lay.grad(x,loss_grad).reshape(-1,n)"
      ],
      "execution_count": 154,
      "outputs": [
        {
          "output_type": "execute_result",
          "data": {
            "text/plain": [
              "array([[ 5.63290227,  1.27776619,  3.12526747,  7.15553164,  5.9634124 ],\n",
              "       [ 7.15809189,  1.62373984,  3.97147876,  9.09299515,  7.57809241],\n",
              "       [-2.72464564, -0.61805796, -1.51169788, -3.4611444 , -2.88451403]])"
            ]
          },
          "metadata": {
            "tags": []
          },
          "execution_count": 154
        }
      ]
    },
    {
      "cell_type": "code",
      "metadata": {
        "id": "N4vQrAUoaO3N",
        "colab_type": "code",
        "colab": {
          "base_uri": "https://localhost:8080/",
          "height": 67
        },
        "outputId": "d8a052a4-9f87-4f1e-abc6-90614befd981"
      },
      "source": [
        "loss_grad"
      ],
      "execution_count": 43,
      "outputs": [
        {
          "output_type": "execute_result",
          "data": {
            "text/plain": [
              "array([[5.45294691],\n",
              "       [4.98561353],\n",
              "       [2.94279091]])"
            ]
          },
          "metadata": {
            "tags": []
          },
          "execution_count": 43
        }
      ]
    },
    {
      "cell_type": "code",
      "metadata": {
        "id": "5TLOorWLaf0I",
        "colab_type": "code",
        "colab": {
          "base_uri": "https://localhost:8080/",
          "height": 50
        },
        "outputId": "3f69b864-961a-4005-fe83-0a88e122eea9"
      },
      "source": [
        "ll=lay.W*loss_grad[:,np.newaxis]\n",
        "ll.flatten()"
      ],
      "execution_count": 55,
      "outputs": [
        {
          "output_type": "execute_result",
          "data": {
            "text/plain": [
              "array([9.61928379, 2.18203601, 8.79488324, 1.99502919, 5.1912372 ,\n",
              "       1.17757899])"
            ]
          },
          "metadata": {
            "tags": []
          },
          "execution_count": 55
        }
      ]
    },
    {
      "cell_type": "code",
      "metadata": {
        "id": "99kxdVfgagzq",
        "colab_type": "code",
        "colab": {
          "base_uri": "https://localhost:8080/",
          "height": 50
        },
        "outputId": "f163ee52-fe0b-4d06-ff00-f65719416fd3"
      },
      "source": [
        "lay.W*loss_grad[0]"
      ],
      "execution_count": 47,
      "outputs": [
        {
          "output_type": "execute_result",
          "data": {
            "text/plain": [
              "array([[9.61928379],\n",
              "       [2.18203601]])"
            ]
          },
          "metadata": {
            "tags": []
          },
          "execution_count": 47
        }
      ]
    },
    {
      "cell_type": "code",
      "metadata": {
        "id": "VZm7Suu9ankc",
        "colab_type": "code",
        "colab": {}
      },
      "source": [
        ""
      ],
      "execution_count": 0,
      "outputs": []
    }
  ]
}