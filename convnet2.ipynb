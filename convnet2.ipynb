{
  "nbformat": 4,
  "nbformat_minor": 0,
  "metadata": {
    "colab": {
      "name": "convnet2.ipynb",
      "provenance": [],
      "collapsed_sections": [],
      "authorship_tag": "ABX9TyOM8QlA0mA3TXqRWeJ8kU1u",
      "include_colab_link": true
    },
    "kernelspec": {
      "name": "python3",
      "display_name": "Python 3"
    }
  },
  "cells": [
    {
      "cell_type": "markdown",
      "metadata": {
        "id": "view-in-github",
        "colab_type": "text"
      },
      "source": [
        "<a href=\"https://colab.research.google.com/github/menasiraziz/Convnet/blob/strided-convolution-derivative/convnet2.ipynb\" target=\"_parent\"><img src=\"https://colab.research.google.com/assets/colab-badge.svg\" alt=\"Open In Colab\"/></a>"
      ]
    },
    {
      "cell_type": "code",
      "metadata": {
        "id": "U6SP1-Wn0LPp",
        "colab_type": "code",
        "colab": {}
      },
      "source": [
        "import numpy as np"
      ],
      "execution_count": 0,
      "outputs": []
    },
    {
      "cell_type": "code",
      "metadata": {
        "id": "chEltUT71tFF",
        "colab_type": "code",
        "colab": {}
      },
      "source": [
        "from numpy.lib.stride_tricks import as_strided\n",
        "\n",
        "\n",
        "def strided_convolution3D(image, weight, stride):\n",
        "    m,ch,im_h, im_w = image.shape\n",
        "    f,t,f_h, f_w = weight.shape\n",
        "    out_shape = (m,ch,1 + (im_h - f_h) // stride, 1 + (im_w - f_w) // stride, f_h, f_w)\n",
        "    out_strides = (image.strides[0],image.strides[1],image.strides[2] * stride, image.strides[3] * stride, image.strides[2], image.strides[3])\n",
        "    windows = as_strided(image, shape=out_shape, strides=out_strides)\n",
        "    return np.einsum('mcopjk,ecjk->meop',windows,weight)\n",
        "\n",
        "def mx_pool(img,s): # function takes advatange of row order of numpy array\n",
        "  m,ch,n,n=img.shape # flatten all images into stride \n",
        "  c=img.reshape(-1,s) #change s to change horizontal stride\n",
        "  ind=np.argmax(c,axis=1)\n",
        "  ind1=np.ravel_multi_index([np.arange(ind.shape[0]),ind], (ind.shape[0],s))\n",
        "  d=img.flatten()[ind1]\n",
        "  g=d.reshape(-1,s,int(n/s)) #probably i need to change s in the middle to change vertical stride\n",
        "\n",
        "  h=g.argmax(axis=1)\n",
        "  i1=np.arange(g.shape[0]) # varies along images in data \n",
        "  i2=np.arange(g.shape[2]) # varies along col axis in indices\n",
        "  ss=i1[:,np.newaxis]*n+g.shape[2]*h+i2 # i2 is varying along col and i1 is varying along batch and row dim\n",
        "  return ind1[ss.flatten()]\n",
        "\n",
        "\n",
        "import numpy as np\n",
        "from numpy.lib.stride_tricks import as_strided\n",
        "\n",
        "\n",
        "def strided_convolution3D1_g(image, weight, stride):\n",
        "    m,ch,im_h, im_w = image.shape\n",
        "    f,t,f_h, f_w = weight.shape\n",
        "    #print(m)\n",
        "    out_shape = (m,ch,1 + (im_h - f_h) // stride, 1 + (im_w - f_w) // stride, f_h, f_w)\n",
        "    out_strides = (image.strides[0],image.strides[1],image.strides[2] * stride, image.strides[3] * stride, image.strides[2], image.strides[3])\n",
        "    windows = as_strided(image, shape=out_shape, strides=out_strides)\n",
        "    #print(windows.shape)\n",
        "    #print(windows)\n",
        "    return np.einsum('meopjk,ecjk->mecop',windows,weight)\n",
        "    #return np.einsum('meopjk,ecjk->meop',windows,weight)\n",
        "    #return np.einsum('meopjk,ecjk->mecop',windows,weight)\n",
        "\n",
        "def strided_convolution3D_grad1(image, weight, stride):\n",
        "    m,ch,im_h, im_w = image.shape\n",
        "    m1,m2,f_h, f_w = weight.shape\n",
        "    \n",
        "    #print(m)\n",
        "    out_shape = (m,ch,1 + (im_h - f_h) // stride, 1 + (im_w - f_w) // stride, f_h, f_w)\n",
        "    out_strides = (image.strides[0],image.strides[1],image.strides[2] * stride, image.strides[3] * stride, image.strides[2], image.strides[3])\n",
        "    windows = as_strided(image, shape=out_shape, strides=out_strides)\n",
        "    #print(windows.shape)\n",
        "    #print(windows[0])\n",
        "    #print(windows*gg1)\n",
        "    return np.einsum('mcopjk,mejk->mecop',windows,weight)\n"
      ],
      "execution_count": 0,
      "outputs": []
    },
    {
      "cell_type": "code",
      "metadata": {
        "id": "nMWRjGVX0PeW",
        "colab_type": "code",
        "colab": {}
      },
      "source": [
        "class ConvLayer:\n",
        "  def __init__(self,in_ch=1,out_ch=1,kernel=(2,2),stride=1):\n",
        "    self.filters=np.random.randn(out_ch,in_ch,kernel[0],kernel[1])\n",
        "    self.stride=stride\n",
        "\n",
        "  def feedforward(self,x):\n",
        "    self.out=strided_convolution3D(x,self.filters,self.stride)\n",
        "    return self.out\n",
        "  def grad(self,x,loss_grad):\n",
        "    self.df=strided_convolution3D_grad1(x,loss_grad,self.stride).sum(axis=0)\n",
        "    gg=np.rot90(loss_grad,2,axes=(2,3))\n",
        "    #gg1=np.pad(gg, ((0, 0),(0, 0),(1, 1),(1,1)), 'constant', constant_values=(0))\n",
        "    gg1=np.zeros((gg.shape[0],gg.shape[1],2*gg.shape[2]+1,2*gg.shape[3]+1)) # implements padding for strided convolution\n",
        "    gg1[:,:,1:-1:2,1:-1:2]=gg # 2 is stride in the convolution append zeros and inbetween variables and apply usual conv op\n",
        "    ooo=strided_convolution3D1_g(gg1,self.filters,1) # derive and implement 2d case to better understand\n",
        "    return np.rot90(ooo,2,axes=(3,4)).sum(axis=1)\n",
        "\n",
        "class FC_Layer:\n",
        "  def __init__(self,i_dim,out_dim):\n",
        "    self.W=np.random.randn(i_dim,out_dim)\n",
        "    self.dw=np.zeros(self.W.shape)\n",
        "  def feedforward(self,x):\n",
        "    self.out=np.dot(x,self.W)\n",
        "    return self.out\n",
        "  def grad(self,x,loss_grad):\n",
        "    return self.W*loss_grad[:,np.newaxis]\n",
        "\n",
        "class Network:\n",
        "  def __init__(self):\n",
        "    self.n=6\n",
        "    self.in_ch=1\n",
        "    self.m=1\n",
        "    self.f=2\n",
        "    self.cs=2\n",
        "    self.o_ch=1\n",
        "\n",
        "    self.conv1=ConvLayer(in_ch=self.in_ch,out_ch=self.o_ch,kernel=(self.f,self.f),stride=self.cs)\n",
        "    cos=(self.n-self.f)//self.cs+1\n",
        "    self.FC1=FC_Layer(cos*cos,1)\n",
        "\n",
        "  def gen_images(self):\n",
        "    return np.random.randn(self.m,self.in_ch,self.n,self.n)\n",
        "\n",
        "  def feedforward(self,x):\n",
        "    c1=self.conv1.feedforward(x)\n",
        "    f1=self.FC1.feedforward(c1.reshape(c1.shape[0],-1))\n",
        "    return f1\n",
        "  def backpropagate(self,x,y,yhat):\n",
        "    loss_grad=2*(yhat-y)\n",
        "    gradF1=self.FC1.grad(self.conv1.out.reshape(loss_grad.shape[0],-1),loss_grad).reshape(self.conv1.out.shape)\n",
        "    print(gradF1.shape)\n",
        "    gradC1=self.conv1.grad(x,gradF1)\n",
        "    print(gradC1.shape)\n",
        "    print(gradC1)\n",
        "\n",
        "  def loss(self,y,yhat):\n",
        "    return np.sum(np.square(y-yhat))\n",
        "\n",
        "  def num_grad(self,x,y):\n",
        "    ep=np.zeros(x.shape)\n",
        "    dw=np.zeros(x.shape)\n",
        "    for dd in range(x.shape[0]):\n",
        "      for k in range(x.shape[1]):\n",
        "       for i in range(x.shape[2]):\n",
        "         for j in range(x.shape[3]):\n",
        "\n",
        "           ep[dd,k,i,j]=1e-4\n",
        "           yhat1=self.feedforward(x+ep)\n",
        "           yhat2=self.feedforward(x-ep)\n",
        "           #print(yhat1.shape)\n",
        "           dw[dd,k,i,j]=(self.loss(y,yhat1)-self.loss(y,yhat2))/2e-4\n",
        "           ep[dd,k,i,j]=0\n",
        "\n",
        "    return dw"
      ],
      "execution_count": 0,
      "outputs": []
    },
    {
      "cell_type": "code",
      "metadata": {
        "id": "-uQyJjngmRn_",
        "colab_type": "code",
        "outputId": "153e2f00-c923-4bc6-a8c8-42cd344c664d",
        "colab": {
          "base_uri": "https://localhost:8080/",
          "height": 454
        }
      },
      "source": [
        "np.random.seed(100)\n",
        "nn=Network()\n",
        "img=nn.gen_images()*10\n",
        "y=np.random.randn(img.shape[0],1)\n",
        "yhat=nn.feedforward(img)\n",
        "nn.backpropagate(img,y,yhat)\n",
        "print(nn.num_grad(img,y))"
      ],
      "execution_count": 70,
      "outputs": [
        {
          "output_type": "stream",
          "text": [
            "(1, 1, 3, 3)\n",
            "(1, 1, 6, 6)\n",
            "[[[[ 43.17498986  -8.45554628  22.62399162  -4.4307644    9.73120116\n",
            "     -1.90579366]\n",
            "   [-28.45084661   6.22879093 -14.9084393    3.26392929  -6.41252985\n",
            "      1.40390577]\n",
            "   [-47.07849926   9.22002369  -8.33721315   1.63279     11.21925156\n",
            "     -2.19721883]\n",
            "   [ 31.02312625  -6.79194437   5.49393928  -1.20279722  -7.39310435\n",
            "      1.61858457]\n",
            "   [-20.15172889   3.94658752  19.14580781  -3.7495843  -25.6763239\n",
            "      5.02854421]\n",
            "   [ 13.27930243  -2.90725966 -12.61643472   2.76213693  16.91982222\n",
            "     -3.70428468]]]]\n",
            "[[[[ 43.17498986  -8.45554628  22.62399162  -4.4307644    9.73120115\n",
            "     -1.90579365]\n",
            "   [-28.45084661   6.22879093 -14.9084393    3.26392929  -6.41252985\n",
            "      1.40390577]\n",
            "   [-47.07849926   9.22002369  -8.33721315   1.63279     11.21925156\n",
            "     -2.19721883]\n",
            "   [ 31.02312625  -6.79194437   5.49393928  -1.20279722  -7.39310435\n",
            "      1.61858457]\n",
            "   [-20.15172889   3.94658752  19.14580781  -3.7495843  -25.6763239\n",
            "      5.02854421]\n",
            "   [ 13.27930243  -2.90725966 -12.61643472   2.76213693  16.91982222\n",
            "     -3.70428468]]]]\n"
          ],
          "name": "stdout"
        }
      ]
    },
    {
      "cell_type": "code",
      "metadata": {
        "id": "x12p2drz1rkW",
        "colab_type": "code",
        "outputId": "85ff2b32-df52-4501-81ec-3b9c876b39df",
        "colab": {
          "base_uri": "https://localhost:8080/",
          "height": 67
        }
      },
      "source": [
        "np.random.seed(0)\n",
        "n=5\n",
        "lay=FC_Layer(n,1)\n",
        "m=3\n",
        "x=np.random.randn(m,n)\n",
        "y=np.random.randn(m,1)\n",
        "yhat=lay.feedforward(x)\n",
        "loss_grad=2*(yhat-y)\n",
        "lay.grad(x,loss_grad).reshape(-1,n)"
      ],
      "execution_count": 23,
      "outputs": [
        {
          "output_type": "execute_result",
          "data": {
            "text/plain": [
              "array([[ 5.63290227,  1.27776619,  3.12526747,  7.15553164,  5.9634124 ],\n",
              "       [ 7.15809189,  1.62373984,  3.97147876,  9.09299515,  7.57809241],\n",
              "       [-2.72464564, -0.61805796, -1.51169788, -3.4611444 , -2.88451403]])"
            ]
          },
          "metadata": {
            "tags": []
          },
          "execution_count": 23
        }
      ]
    },
    {
      "cell_type": "code",
      "metadata": {
        "id": "N4vQrAUoaO3N",
        "colab_type": "code",
        "outputId": "d8a052a4-9f87-4f1e-abc6-90614befd981",
        "colab": {
          "base_uri": "https://localhost:8080/",
          "height": 67
        }
      },
      "source": [
        "loss_grad"
      ],
      "execution_count": 0,
      "outputs": [
        {
          "output_type": "execute_result",
          "data": {
            "text/plain": [
              "array([[5.45294691],\n",
              "       [4.98561353],\n",
              "       [2.94279091]])"
            ]
          },
          "metadata": {
            "tags": []
          },
          "execution_count": 43
        }
      ]
    },
    {
      "cell_type": "code",
      "metadata": {
        "id": "5TLOorWLaf0I",
        "colab_type": "code",
        "outputId": "3f69b864-961a-4005-fe83-0a88e122eea9",
        "colab": {
          "base_uri": "https://localhost:8080/",
          "height": 50
        }
      },
      "source": [
        "ll=lay.W*loss_grad[:,np.newaxis]\n",
        "ll.flatten()"
      ],
      "execution_count": 0,
      "outputs": [
        {
          "output_type": "execute_result",
          "data": {
            "text/plain": [
              "array([9.61928379, 2.18203601, 8.79488324, 1.99502919, 5.1912372 ,\n",
              "       1.17757899])"
            ]
          },
          "metadata": {
            "tags": []
          },
          "execution_count": 55
        }
      ]
    },
    {
      "cell_type": "code",
      "metadata": {
        "id": "99kxdVfgagzq",
        "colab_type": "code",
        "outputId": "f163ee52-fe0b-4d06-ff00-f65719416fd3",
        "colab": {
          "base_uri": "https://localhost:8080/",
          "height": 50
        }
      },
      "source": [
        "lay.W*loss_grad[0]"
      ],
      "execution_count": 0,
      "outputs": [
        {
          "output_type": "execute_result",
          "data": {
            "text/plain": [
              "array([[9.61928379],\n",
              "       [2.18203601]])"
            ]
          },
          "metadata": {
            "tags": []
          },
          "execution_count": 47
        }
      ]
    },
    {
      "cell_type": "code",
      "metadata": {
        "id": "VZm7Suu9ankc",
        "colab_type": "code",
        "colab": {}
      },
      "source": [
        "m=10\n",
        "n=32\n",
        "a=np.arange(m*n*n).reshape(m,n,n)+1"
      ],
      "execution_count": 0,
      "outputs": []
    },
    {
      "cell_type": "code",
      "metadata": {
        "id": "nYY2Am44oThf",
        "colab_type": "code",
        "colab": {}
      },
      "source": [
        "b=np.zeros((m,n+2,+n+2))\n",
        "b[:,1:-1,1:-1]=a"
      ],
      "execution_count": 0,
      "outputs": []
    },
    {
      "cell_type": "code",
      "metadata": {
        "id": "gXlsb1guofjr",
        "colab_type": "code",
        "colab": {
          "base_uri": "https://localhost:8080/",
          "height": 34
        },
        "outputId": "1b2bcf52-341b-49f3-ebd4-880e35f68eca"
      },
      "source": [
        "%timeit b[:,1:-1,1:-1]=a"
      ],
      "execution_count": 50,
      "outputs": [
        {
          "output_type": "stream",
          "text": [
            "100000 loops, best of 3: 16.5 µs per loop\n"
          ],
          "name": "stdout"
        }
      ]
    },
    {
      "cell_type": "code",
      "metadata": {
        "id": "N2xyEGIXoupl",
        "colab_type": "code",
        "colab": {
          "base_uri": "https://localhost:8080/",
          "height": 34
        },
        "outputId": "143a5f7a-476c-47f7-89a3-67c5cf35563d"
      },
      "source": [
        "m=1\n",
        "n=4\n",
        "a=np.arange(4)+1\n",
        "b=np.zeros(9)\n",
        "b[1:-1:2]=a\n",
        "b"
      ],
      "execution_count": 62,
      "outputs": [
        {
          "output_type": "execute_result",
          "data": {
            "text/plain": [
              "array([0., 1., 0., 2., 0., 3., 0., 4., 0.])"
            ]
          },
          "metadata": {
            "tags": []
          },
          "execution_count": 62
        }
      ]
    },
    {
      "cell_type": "code",
      "metadata": {
        "id": "KOCuUQV1owhN",
        "colab_type": "code",
        "colab": {
          "base_uri": "https://localhost:8080/",
          "height": 168
        },
        "outputId": "ad394ecc-8a4d-434a-de1a-5f52a87db8bb"
      },
      "source": [
        "m=1\n",
        "n=4\n",
        "a=np.arange(m*n*n).reshape(m,n,n)+1\n",
        "b=np.zeros((m,2*n+1,2*n+1))\n",
        "b[:,1:-1:2,1:-1:2]=a\n",
        "b"
      ],
      "execution_count": 65,
      "outputs": [
        {
          "output_type": "execute_result",
          "data": {
            "text/plain": [
              "array([[[ 0.,  0.,  0.,  0.,  0.,  0.,  0.,  0.,  0.],\n",
              "        [ 0.,  1.,  0.,  2.,  0.,  3.,  0.,  4.,  0.],\n",
              "        [ 0.,  0.,  0.,  0.,  0.,  0.,  0.,  0.,  0.],\n",
              "        [ 0.,  5.,  0.,  6.,  0.,  7.,  0.,  8.,  0.],\n",
              "        [ 0.,  0.,  0.,  0.,  0.,  0.,  0.,  0.,  0.],\n",
              "        [ 0.,  9.,  0., 10.,  0., 11.,  0., 12.,  0.],\n",
              "        [ 0.,  0.,  0.,  0.,  0.,  0.,  0.,  0.,  0.],\n",
              "        [ 0., 13.,  0., 14.,  0., 15.,  0., 16.,  0.],\n",
              "        [ 0.,  0.,  0.,  0.,  0.,  0.,  0.,  0.,  0.]]])"
            ]
          },
          "metadata": {
            "tags": []
          },
          "execution_count": 65
        }
      ]
    },
    {
      "cell_type": "code",
      "metadata": {
        "id": "11W_UHcptYw5",
        "colab_type": "code",
        "colab": {
          "base_uri": "https://localhost:8080/",
          "height": 84
        },
        "outputId": "233af723-75d2-446d-a212-1351fb1f46b4"
      },
      "source": [
        "a"
      ],
      "execution_count": 66,
      "outputs": [
        {
          "output_type": "execute_result",
          "data": {
            "text/plain": [
              "array([[[ 1,  2,  3,  4],\n",
              "        [ 5,  6,  7,  8],\n",
              "        [ 9, 10, 11, 12],\n",
              "        [13, 14, 15, 16]]])"
            ]
          },
          "metadata": {
            "tags": []
          },
          "execution_count": 66
        }
      ]
    },
    {
      "cell_type": "code",
      "metadata": {
        "id": "_C0wjW-LwFV1",
        "colab_type": "code",
        "colab": {}
      },
      "source": [
        ""
      ],
      "execution_count": 0,
      "outputs": []
    }
  ]
}